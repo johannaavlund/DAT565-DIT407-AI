{
 "cells": [
  {
   "cell_type": "code",
   "execution_count": 58,
   "id": "dbcbb73d-676f-4f31-b0a3-e80c88c120ef",
   "metadata": {},
   "outputs": [
    {
     "data": {
      "text/plain": [
       "(                                                Name  \\\n",
       " 2076  easy_ham/0210.35f5f8aef973035bc4ec4ad13d717ebf   \n",
       " 1748  easy_ham/1736.9ae2cf6f768fe1d218ddb61cea78e523   \n",
       " 2547  easy_ham/0390.d1ecb44eef90f33245ee0835d94e80ad   \n",
       " 1053  easy_ham/2272.9b8411be19d932252fc3a66478f556e4   \n",
       " 1230  easy_ham/1108.128f9f0247b131505281874efc8e02f8   \n",
       " ...                                              ...   \n",
       " 2041  easy_ham/2075.711e8f761dd164a7bcafc3ab23c96735   \n",
       " 664   easy_ham/0739.88b6bb31404ad7f4802e4002d4e6ad66   \n",
       " 1318  easy_ham/1212.b8a6ce9e2f0d2075ace38710d356c7af   \n",
       " 723   easy_ham/0955.aeb04c1ac6bb728a6561da1da8b73995   \n",
       " 2863  easy_ham/0767.da57f04c8030dce67142b9480e532b30   \n",
       " \n",
       "                                                 Content Type  \n",
       " 2076  From ilug-admin@linux.ie  Tue Oct  8 14:39:48 ...  Ham  \n",
       " 1748  From neugens@libero.it  Fri Aug 23 11:06:09 20...  Ham  \n",
       " 2547  From fork-admin@xent.com  Tue Aug 27 00:53:25 ...  Ham  \n",
       " 1053  From rssfeeds@jmason.org  Tue Oct  1 10:38:02 ...  Ham  \n",
       " 1230  From exmh-users-admin@redhat.com  Mon Sep 16 1...  Ham  \n",
       " ...                                                 ...  ...  \n",
       " 2041  From rssfeeds@jmason.org  Thu Sep 26 16:42:31 ...  Ham  \n",
       " 664   From fork-admin@xent.com  Sat Sep 21 10:43:20 ...  Ham  \n",
       " 1318  From exmh-workers-admin@redhat.com  Mon Sep 23...  Ham  \n",
       " 723   From fork-admin@xent.com  Sat Oct  5 12:39:23 ...  Ham  \n",
       " 2863  From fork-admin@xent.com  Sun Sep 22 21:57:50 ...  Ham  \n",
       " \n",
       " [2289 rows x 3 columns],\n",
       "                                                 Name  \\\n",
       " 1359  easy_ham/1264.c8e0a9ae674a3b16ef93c8b41013d1ee   \n",
       " 2463  easy_ham/0004.e8d5727378ddde5c3be181df593f1712   \n",
       " 2275  easy_ham/2367.4c7d1d3b8b2f0467a4ed5e9ef5f17980   \n",
       " 1456  easy_ham/1383.4e6c2c19a9c9ff985a966f06ea87ed76   \n",
       " 1373  easy_ham/1280.542b6637621390bff1378f93bbbc8f6b   \n",
       " ...                                              ...   \n",
       " 1073  easy_ham/2344.45d6efa4dcc957ef888b88e5017e850b   \n",
       " 1425  easy_ham/1347.b74ed7bb44086b2b4721bce965ac8273   \n",
       " 2821  easy_ham/0715.6209671b4aec7159b71320b0c462ce8e   \n",
       " 2808  easy_ham/0700.5a134a606e773c40b71ec59a599e61ad   \n",
       " 389       spam/0417.8e6ff04af5a268d0495259b3f6a24d58   \n",
       " \n",
       "                                                 Content  Type  \n",
       " 1359  From exmh-users-admin@redhat.com  Wed Oct  9 2...   Ham  \n",
       " 2463  From irregulars-admin@tb.tf  Thu Aug 22 14:23:...   Ham  \n",
       " 2275  From rssfeeds@jmason.org  Fri Oct  4 11:02:15 ...   Ham  \n",
       " 1456  From rpm-list-admin@freshrpms.net  Tue Oct  8 ...   Ham  \n",
       " 1373  From rpm-list-admin@freshrpms.net  Mon Sep 30 ...   Ham  \n",
       " ...                                                 ...   ...  \n",
       " 1073  From rssfeeds@jmason.org  Thu Oct  3 12:25:19 ...   Ham  \n",
       " 1425  From rpm-list-admin@freshrpms.net  Sun Oct  6 ...   Ham  \n",
       " 2821  From fork-admin@xent.com  Thu Sep 19 17:50:40 ...   Ham  \n",
       " 2808  From fork-admin@xent.com  Thu Sep 19 11:05:33 ...   Ham  \n",
       " 389   From iiu-admin@taint.org  Sat Sep 21 14:40:47 ...  Spam  \n",
       " \n",
       " [763 rows x 3 columns])"
      ]
     },
     "execution_count": 58,
     "metadata": {},
     "output_type": "execute_result"
    }
   ],
   "source": [
    "import tarfile\n",
    "import pandas as pd\n",
    "from sklearn.model_selection import train_test_split\n",
    "from sklearn.feature_extraction.text import CountVectorizer\n",
    "from sklearn.naive_bayes import BernoulliNB, MultinomialNB\n",
    "from sklearn.metrics import confusion_matrix, accuracy_score, precision_score, recall_score\n",
    "from sklearn.metrics import classification_report\n",
    "import matplotlib.pyplot as plt\n",
    "from sklearn import metrics\n",
    "from sklearn.preprocessing import LabelEncoder\n",
    "\n",
    "easy_ham = []\n",
    "hard_ham = []\n",
    "spam = []\n",
    "\n",
    "with tarfile.open(\"20021010_spam.tar.bz2\", \"r:bz2\") as tar:\n",
    "    for tarinfo in tar:\n",
    "        if tarinfo.isreg():\n",
    "            with tar.extractfile(tarinfo) as file_content:\n",
    "                content_bytes = file_content.read()\n",
    "                content_utf8 = content_bytes.decode('utf-8', errors='ignore')\n",
    "            row = {'Name': tarinfo.name, 'Content': content_utf8, 'Type': 'Spam'}\n",
    "            spam.append(row)\n",
    "\n",
    "with tarfile.open(\"20021010_easy_ham.tar.bz2\", \"r:bz2\") as tar:\n",
    "    for tarinfo in tar:\n",
    "        if tarinfo.isreg():\n",
    "            with tar.extractfile(tarinfo) as file_content:\n",
    "                content_bytes = file_content.read()\n",
    "                content_utf8 = content_bytes.decode('utf-8', errors='ignore')\n",
    "            row = {'Name': tarinfo.name, 'Content': content_utf8, 'Type': 'Ham'}\n",
    "            easy_ham.append(row)\n",
    "\n",
    "with tarfile.open(\"20021010_hard_ham.tar.bz2\", \"r:bz2\") as tar:\n",
    "    for tarinfo in tar:\n",
    "        if tarinfo.isreg():\n",
    "            with tar.extractfile(tarinfo) as file_content:\n",
    "                content_bytes = file_content.read()\n",
    "                content_utf8 = content_bytes.decode('utf-8', errors='ignore')\n",
    "            row = {'Name': tarinfo.name, 'Content': content_utf8, 'Type': 'Ham'}\n",
    "            hard_ham.append(row)\n",
    "\n",
    "df_spam = pd.DataFrame(spam)\n",
    "df_easy_ham = pd.DataFrame(easy_ham)\n",
    "df_hard_ham = pd.DataFrame(hard_ham)\n",
    "\n",
    "#Easy and Spam\n",
    "df = pd.concat([df_spam, df_easy_ham], ignore_index=True)\n",
    "\n",
    "def train_test(df):\n",
    "    SEED = 1234\n",
    "    df_train, df_test = train_test_split(df,random_state=SEED)\n",
    "    return df_train, df_test\n",
    "\n",
    "#df_test['Type'].value_counts()\n",
    "train_test(df)"
   ]
  },
  {
   "cell_type": "code",
   "execution_count": 33,
   "id": "1db05d14-55fa-41b4-a9f3-b724dbdc74a9",
   "metadata": {},
   "outputs": [
    {
     "data": {
      "text/plain": [
       "Type\n",
       "Ham     1924\n",
       "Spam     365\n",
       "Name: count, dtype: int64"
      ]
     },
     "execution_count": 33,
     "metadata": {},
     "output_type": "execute_result"
    }
   ],
   "source": [
    "df_train['Type'].value_counts()"
   ]
  },
  {
   "cell_type": "code",
   "execution_count": 34,
   "id": "cda16cad-ffbd-4ddb-aa28-5ce2f5cb45da",
   "metadata": {},
   "outputs": [],
   "source": [
    "cv = CountVectorizer()\n",
    "X_train = cv.fit_transform(df_train['Content'])\n",
    "X_test = cv.transform(df_test['Content'])"
   ]
  },
  {
   "cell_type": "code",
   "execution_count": 35,
   "id": "916d4944-457e-40e2-b02c-0ab8b1df9ffe",
   "metadata": {},
   "outputs": [],
   "source": [
    "le = LabelEncoder()\n",
    "y_train = le.fit_transform(df_train['Type'])\n",
    "y_test = le.transform(df_test['Type'])"
   ]
  },
  {
   "cell_type": "code",
   "execution_count": 52,
   "id": "5fe6bf85-25a4-4318-bb37-85a405246f76",
   "metadata": {},
   "outputs": [
    {
     "name": "stdout",
     "output_type": "stream",
     "text": [
      "BernoulliNB Accuracy: 0.8964613368283093\n",
      "BernoulliNB Precision: 0.8925501432664756\n",
      "BernoulliNB Recall: 0.9936204146730463\n",
      "BernoulliNB Confusion Matrix:\n"
     ]
    },
    {
     "data": {
      "image/png": "[encoded data removed]",
      "text/plain": [
       "<Figure size 640x480 with 2 Axes>"
      ]
     },
     "metadata": {},
     "output_type": "display_data"
    }
   ],
   "source": [
    "#Bernoulli\n",
    "\n",
    "bnb = BernoulliNB()\n",
    "bnb.fit(X_train,y_train)\n",
    "y_pred_bnb = bnb.predict(X_test)\n",
    "acc_bnb = (y_test == y_pred_bnb).sum()/y_test.shape[0]\n",
    "\n",
    "y_test_inv = le.inverse_transform(y_test)\n",
    "y_pred_bnb_inv = le.inverse_transform(y_pred_bnb)\n",
    "tp = ((y_test_inv == 'Ham') & (y_pred_bnb_inv == 'Ham')).sum()\n",
    "fp = ((y_test_inv == 'Spam') & (y_pred_bnb_inv == 'Ham')).sum()\n",
    "fn = ((y_test_inv == 'Ham') & (y_pred_bnb_inv == 'Spam')).sum()\n",
    "tn = ((y_test_inv == 'Spam') & (y_pred_bnb_inv == 'Spam')).sum()\n",
    "acc = (tp+tn)/(tp+fp+tn+fn)\n",
    "precision = tp/(tp+fp)\n",
    "recall = tp/(tp+fn)\n",
    "acc, precision, recall\n",
    "\n",
    "print(\"BernoulliNB Accuracy:\", acc)\n",
    "print(\"BernoulliNB Precision:\", precision)\n",
    "print(\"BernoulliNB Recall:\", recall)\n",
    "\n",
    "cm_bnb = metrics.confusion_matrix(y_test, y_pred_bnb)\n",
    "\n",
    "print(\"BernoulliNB Confusion Matrix:\")\n",
    "cm_display = metrics.ConfusionMatrixDisplay(cm_bnb, display_labels = [0, 1])\n",
    "#cm_display.plot()\n",
    "cm_display.plot(cmap=plt.cm. PuBuGn)\n",
    "plt.show()"
   ]
  },
  {
   "cell_type": "code",
   "execution_count": 57,
   "id": "7a623f23-f597-4061-9f3f-c479e418c035",
   "metadata": {},
   "outputs": [
    {
     "name": "stdout",
     "output_type": "stream",
     "text": [
      "MultinomialNB Accuracy, Precision, Recall (0.9659239842726082, 0.9601837672281777, 1.0)\n",
      "\n",
      "MultinomialNB Confusion Matrix:\n"
     ]
    },
    {
     "data": {
      "image/png": "[encoded data removed]",
      "text/plain": [
       "<Figure size 640x480 with 2 Axes>"
      ]
     },
     "metadata": {},
     "output_type": "display_data"
    }
   ],
   "source": [
    "#Multinomial\n",
    "def count_multinomialNB(X_train, y_train):\n",
    "    mnb = MultinomialNB()\n",
    "    mnb.fit(X_train,y_train)\n",
    "    y_pred_mnb = mnb.predict(X_test)\n",
    "    acc_mnb = (y_test == y_pred_mnb).sum()/len(y_test)\n",
    "    \n",
    "    y_test_inv = le.inverse_transform(y_test)\n",
    "    y_pred_mnb_inv = le.inverse_transform(y_pred_mnb)\n",
    "    tp = ((y_test_inv == 'Ham') & (y_pred_mnb_inv == 'Ham')).sum()\n",
    "    fp = ((y_test_inv == 'Spam') & (y_pred_mnb_inv == 'Ham')).sum()\n",
    "    fn = ((y_test_inv == 'Ham') & (y_pred_mnb_inv == 'Spam')).sum()\n",
    "    tn = ((y_test_inv == 'Spam') & (y_pred_mnb_inv == 'Spam')).sum()\n",
    "    acc = (tp+tn)/(tp+fp+tn+fn)\n",
    "    precision = tp/(tp+fp)\n",
    "    recall = tp/(tp+fn)\n",
    "    return acc, precision, recall\n",
    "    \n",
    "print(\"MultinomialNB Accuracy, Precision, Recall\", count_multinomialNB(X_train, y_train))\n",
    "#print(\"MultinomialNB Precision:\", precision)\n",
    "#print(\"MultinomialNB Recall:\", recall)\n",
    "\n",
    "cm_mnb = confusion_matrix(y_test, y_pred_mnb)\n",
    "print(\"\\nMultinomialNB Confusion Matrix:\")\n",
    "cm_display = metrics.ConfusionMatrixDisplay(cm_mnb, display_labels = [0, 1])\n",
    "#cm_display.plot()\n",
    "cm_display.plot(cmap=plt.cm.GnBu)\n",
    "plt.show()"
   ]
  },
  {
   "cell_type": "code",
   "execution_count": null,
   "id": "f6873d1c-cf62-4166-8c77-db15a83f070e",
   "metadata": {},
   "outputs": [],
   "source": []
  }
 ],
 "metadata": {
  "kernelspec": {
   "display_name": "Python 3 (ipykernel)",
   "language": "python",
   "name": "python3"
  },
  "language_info": {
   "codemirror_mode": {
    "name": "ipython",
    "version": 3
   },
   "file_extension": ".py",
   "mimetype": "text/x-python",
   "name": "python",
   "nbconvert_exporter": "python",
   "pygments_lexer": "ipython3",
   "version": "3.11.7"
  }
 },
 "nbformat": 4,
 "nbformat_minor": 5
}

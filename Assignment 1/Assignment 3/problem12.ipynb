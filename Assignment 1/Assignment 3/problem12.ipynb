{
 "cells": [
  {
   "cell_type": "code",
   "execution_count": 126,
   "id": "a61bfed4-1fa9-4dee-98c1-86b6dfd491af",
   "metadata": {},
   "outputs": [
    {
     "name": "stdout",
     "output_type": "stream",
     "text": [
      "BernoulliNB Accuracy: 0.87409200968523\n",
      "MultinomialNB Accuracy: 0.9709443099273608\n",
      "BernoulliNB Confusion Matrix:\n",
      "[[691   1]\n",
      " [103  31]]\n",
      "BernoulliNB Accuracy: 0.87409200968523\n",
      "BernoulliNB Precision (Spam): 0.96875\n",
      "BernoulliNB Recall (Spam): 0.23134328358208955\n",
      "\n",
      "MultinomialNB Confusion Matrix:\n",
      "[[690   2]\n",
      " [ 22 112]]\n",
      "MultinomialNB Accuracy: 0.9709443099273608\n",
      "MultinomialNB Precision (Spam): 0.9824561403508771\n",
      "MultinomialNB Recall (Spam): 0.835820895522388\n"
     ]
    }
   ],
   "source": [
    "import tarfile\n",
    "import pandas as pd\n",
    "from sklearn.model_selection import train_test_split\n",
    "from sklearn.feature_extraction.text import CountVectorizer\n",
    "from sklearn.naive_bayes import BernoulliNB, MultinomialNB\n",
    "from sklearn.metrics import confusion_matrix, accuracy_score, precision_score, recall_score\n",
    "\n",
    "easy_ham = []\n",
    "hard_ham = []\n",
    "spam = []\n",
    "\n",
    "with tarfile.open(\"20021010_spam.tar.bz2\", \"r:bz2\") as tar:\n",
    "    for tarinfo in tar:\n",
    "        if tarinfo.isreg():\n",
    "            with tar.extractfile(tarinfo) as file_content:\n",
    "                content_bytes = file_content.read()\n",
    "                content_utf8 = content_bytes.decode('utf-8', errors='ignore')\n",
    "            row = {'Name': tarinfo.name, 'Content': content_utf8, 'Type': 'Spam'}\n",
    "            spam.append(row)\n",
    "\n",
    "with tarfile.open(\"20021010_easy_ham.tar.bz2\", \"r:bz2\") as tar:\n",
    "    for tarinfo in tar:\n",
    "        if tarinfo.isreg():\n",
    "            with tar.extractfile(tarinfo) as file_content:\n",
    "                content_bytes = file_content.read()\n",
    "                content_utf8 = content_bytes.decode('utf-8', errors='ignore')\n",
    "            row = {'Name': tarinfo.name, 'Content': content_utf8, 'Type': 'Ham'}\n",
    "            easy_ham.append(row)\n",
    "\n",
    "with tarfile.open(\"20021010_hard_ham.tar.bz2\", \"r:bz2\") as tar:\n",
    "    for tarinfo in tar:\n",
    "        if tarinfo.isreg():\n",
    "            with tar.extractfile(tarinfo) as file_content:\n",
    "                content_bytes = file_content.read()\n",
    "                content_utf8 = content_bytes.decode('utf-8', errors='ignore')\n",
    "            row = {'Name': tarinfo.name, 'Content': content_utf8, 'Type': 'Ham'}\n",
    "            hard_ham.append(row)\n",
    "\n",
    "df_spam = pd.DataFrame(spam)\n",
    "df_easy_ham = pd.DataFrame(easy_ham)\n",
    "df_hard_ham = pd.DataFrame(hard_ham)\n",
    "\n",
    "df = pd.concat([df_spam, df_easy_ham, df_hard_ham], ignore_index=True)\n",
    "\n",
    "SEED = 1234\n",
    "X_train, X_test, y_train, y_test = train_test_split(df['Content'], df['Type'], random_state=SEED)\n",
    "\n",
    "cv = CountVectorizer()\n",
    "X_train_vect = cv.fit_transform(X_train)\n",
    "X_test_vect = cv.transform(X_test)\n",
    "\n",
    "# Träna BernoulliNB-modellen\n",
    "bnb = BernoulliNB()\n",
    "bnb.fit(X_train_vect, y_train)\n",
    "y_pred_bnb = bnb.predict(X_test_vect)\n",
    "acc_bnb = (y_test == y_pred_bnb).sum() / len(y_test)\n",
    "print(\"BernoulliNB Accuracy:\", acc_bnb)\n",
    "\n",
    "# Träna MultinomialNB-modellen\n",
    "mnb = MultinomialNB()\n",
    "mnb.fit(X_train_vect, y_train)\n",
    "y_pred_mnb = mnb.predict(X_test_vect)\n",
    "acc_mnb = (y_test == y_pred_mnb).sum() / len(y_test)\n",
    "print(\"MultinomialNB Accuracy:\", acc_mnb)\n",
    "\n",
    "\n",
    "\n",
    "# Skapa en förvirringsmatris och beräkna mätvärden för BernoulliNB-modellen\n",
    "cm_bnb = confusion_matrix(y_test, y_pred_bnb)\n",
    "acc_bnb = accuracy_score(y_test, y_pred_bnb)\n",
    "precision_bnb = precision_score(y_test, y_pred_bnb, pos_label='Spam')\n",
    "recall_bnb = recall_score(y_test, y_pred_bnb, pos_label='Spam')\n",
    "\n",
    "print(\"BernoulliNB Confusion Matrix:\")\n",
    "print(cm_bnb)\n",
    "print(\"BernoulliNB Accuracy:\", acc_bnb)\n",
    "print(\"BernoulliNB Precision (Spam):\", precision_bnb)\n",
    "print(\"BernoulliNB Recall (Spam):\", recall_bnb)\n",
    "\n",
    "# Skapa en förvirringsmatris och beräkna mätvärden för MultinomialNB-modellen\n",
    "cm_mnb = confusion_matrix(y_test, y_pred_mnb)\n",
    "acc_mnb = accuracy_score(y_test, y_pred_mnb)\n",
    "precision_mnb = precision_score(y_test, y_pred_mnb, pos_label='Spam')\n",
    "recall_mnb = recall_score(y_test, y_pred_mnb, pos_label='Spam')\n",
    "\n",
    "print(\"\\nMultinomialNB Confusion Matrix:\")\n",
    "print(cm_mnb)\n",
    "print(\"MultinomialNB Accuracy:\", acc_mnb)\n",
    "print(\"MultinomialNB Precision (Spam):\", precision_mnb)\n",
    "print(\"MultinomialNB Recall (Spam):\", recall_mnb)\n"
   ]
  },
  {
   "cell_type": "code",
   "execution_count": 116,
   "id": "8658d58a-8d7f-4199-81e6-1601459f392f",
   "metadata": {},
   "outputs": [
    {
     "data": {
      "text/html": [
       "<div>\n",
       "<style scoped>\n",
       "    .dataframe tbody tr th:only-of-type {\n",
       "        vertical-align: middle;\n",
       "    }\n",
       "\n",
       "    .dataframe tbody tr th {\n",
       "        vertical-align: top;\n",
       "    }\n",
       "\n",
       "    .dataframe thead th {\n",
       "        text-align: right;\n",
       "    }\n",
       "</style>\n",
       "<table border=\"1\" class=\"dataframe\">\n",
       "  <thead>\n",
       "    <tr style=\"text-align: right;\">\n",
       "      <th></th>\n",
       "      <th>Name</th>\n",
       "      <th>Content</th>\n",
       "      <th>Type</th>\n",
       "    </tr>\n",
       "  </thead>\n",
       "  <tbody>\n",
       "    <tr>\n",
       "      <th>2017</th>\n",
       "      <td>easy_ham/2043.17d3228812a027a1ffd1c5170b184178</td>\n",
       "      <td>From rssfeeds@jmason.org  Thu Sep 26 16:34:05 ...</td>\n",
       "      <td>Ham</td>\n",
       "    </tr>\n",
       "    <tr>\n",
       "      <th>2159</th>\n",
       "      <td>easy_ham/2220.47fdcb48672a1f836c88bb76344fae46</td>\n",
       "      <td>From rssfeeds@jmason.org  Tue Oct  1 10:36:54 ...</td>\n",
       "      <td>Ham</td>\n",
       "    </tr>\n",
       "    <tr>\n",
       "      <th>1828</th>\n",
       "      <td>easy_ham/1831.0bbb7ccf73587c7f02655596e7fa6477</td>\n",
       "      <td>Return-Path: tim.one@comcast.net\\nDelivery-Dat...</td>\n",
       "      <td>Ham</td>\n",
       "    </tr>\n",
       "    <tr>\n",
       "      <th>1660</th>\n",
       "      <td>easy_ham/0017.d81093a2182fc9135df6d9158a8ebfd6</td>\n",
       "      <td>From ilug-admin@linux.ie  Thu Aug 22 16:27:21 ...</td>\n",
       "      <td>Ham</td>\n",
       "    </tr>\n",
       "    <tr>\n",
       "      <th>2839</th>\n",
       "      <td>easy_ham/0737.aa298505cb31aac78d0dbf229fc45fb9</td>\n",
       "      <td>From fork-admin@xent.com  Sat Sep 21 10:43:13 ...</td>\n",
       "      <td>Ham</td>\n",
       "    </tr>\n",
       "    <tr>\n",
       "      <th>...</th>\n",
       "      <td>...</td>\n",
       "      <td>...</td>\n",
       "      <td>...</td>\n",
       "    </tr>\n",
       "    <tr>\n",
       "      <th>3077</th>\n",
       "      <td>hard_ham/0096.35188664501272e51fd054e157bc6e24</td>\n",
       "      <td>Return-Path: &lt;Online#3.20455.d5-U1ENl7S3adjcY9...</td>\n",
       "      <td>Ham</td>\n",
       "    </tr>\n",
       "    <tr>\n",
       "      <th>3192</th>\n",
       "      <td>hard_ham/0189.c1612db4bc2ad5fd3d5fe35dad0e3a2b</td>\n",
       "      <td>Return-Path: superkeen@keenspot.com\\nDelivery-...</td>\n",
       "      <td>Ham</td>\n",
       "    </tr>\n",
       "    <tr>\n",
       "      <th>1488</th>\n",
       "      <td>easy_ham/1420.6954e3e5e7c772dc859c47d42ff4a085</td>\n",
       "      <td>From spamassassin-talk-admin@lists.sourceforge...</td>\n",
       "      <td>Ham</td>\n",
       "    </tr>\n",
       "    <tr>\n",
       "      <th>464</th>\n",
       "      <td>spam/0057.92fdae44bdd1d9e5461eef3c852dfd23</td>\n",
       "      <td>From bill@bluemail.dk  Mon Aug 26 15:13:50 200...</td>\n",
       "      <td>Ham</td>\n",
       "    </tr>\n",
       "    <tr>\n",
       "      <th>991</th>\n",
       "      <td>easy_ham/2053.f61808e7e505202075cbcdb4fd4ef532</td>\n",
       "      <td>From rssfeeds@jmason.org  Thu Sep 26 16:41:46 ...</td>\n",
       "      <td>Ham</td>\n",
       "    </tr>\n",
       "  </tbody>\n",
       "</table>\n",
       "<p>826 rows × 3 columns</p>\n",
       "</div>"
      ],
      "text/plain": [
       "                                                Name  \\\n",
       "2017  easy_ham/2043.17d3228812a027a1ffd1c5170b184178   \n",
       "2159  easy_ham/2220.47fdcb48672a1f836c88bb76344fae46   \n",
       "1828  easy_ham/1831.0bbb7ccf73587c7f02655596e7fa6477   \n",
       "1660  easy_ham/0017.d81093a2182fc9135df6d9158a8ebfd6   \n",
       "2839  easy_ham/0737.aa298505cb31aac78d0dbf229fc45fb9   \n",
       "...                                              ...   \n",
       "3077  hard_ham/0096.35188664501272e51fd054e157bc6e24   \n",
       "3192  hard_ham/0189.c1612db4bc2ad5fd3d5fe35dad0e3a2b   \n",
       "1488  easy_ham/1420.6954e3e5e7c772dc859c47d42ff4a085   \n",
       "464       spam/0057.92fdae44bdd1d9e5461eef3c852dfd23   \n",
       "991   easy_ham/2053.f61808e7e505202075cbcdb4fd4ef532   \n",
       "\n",
       "                                                Content Type  \n",
       "2017  From rssfeeds@jmason.org  Thu Sep 26 16:34:05 ...  Ham  \n",
       "2159  From rssfeeds@jmason.org  Tue Oct  1 10:36:54 ...  Ham  \n",
       "1828  Return-Path: tim.one@comcast.net\\nDelivery-Dat...  Ham  \n",
       "1660  From ilug-admin@linux.ie  Thu Aug 22 16:27:21 ...  Ham  \n",
       "2839  From fork-admin@xent.com  Sat Sep 21 10:43:13 ...  Ham  \n",
       "...                                                 ...  ...  \n",
       "3077  Return-Path: <Online#3.20455.d5-U1ENl7S3adjcY9...  Ham  \n",
       "3192  Return-Path: superkeen@keenspot.com\\nDelivery-...  Ham  \n",
       "1488  From spamassassin-talk-admin@lists.sourceforge...  Ham  \n",
       "464   From bill@bluemail.dk  Mon Aug 26 15:13:50 200...  Ham  \n",
       "991   From rssfeeds@jmason.org  Thu Sep 26 16:41:46 ...  Ham  \n",
       "\n",
       "[826 rows x 3 columns]"
      ]
     },
     "execution_count": 116,
     "metadata": {},
     "output_type": "execute_result"
    }
   ],
   "source": [
    "df_test"
   ]
  },
  {
   "cell_type": "code",
   "execution_count": 117,
   "id": "68c79cd2-58e3-4b92-8a73-5590fa23d91c",
   "metadata": {},
   "outputs": [
    {
     "data": {
      "text/plain": [
       "Type\n",
       "Ham    826\n",
       "Name: count, dtype: int64"
      ]
     },
     "execution_count": 117,
     "metadata": {},
     "output_type": "execute_result"
    }
   ],
   "source": [
    "df_test['Type'].value_counts()"
   ]
  },
  {
   "cell_type": "code",
   "execution_count": 111,
   "id": "7bf278a8-0e86-4bf9-9162-dd2dba5910a2",
   "metadata": {},
   "outputs": [
    {
     "data": {
      "text/plain": [
       "1.0"
      ]
     },
     "execution_count": 111,
     "metadata": {},
     "output_type": "execute_result"
    }
   ],
   "source": [
    "#våran gissning summerat på hur många HAM det finns i df_test\n",
    "acc_dummy = (df_test['Type'] == 'Ham').sum()/df_test.shape[0]\n",
    "acc_dummy"
   ]
  },
  {
   "cell_type": "code",
   "execution_count": 102,
   "id": "bfff110a-0399-4a01-b1bf-0918ce696cb6",
   "metadata": {},
   "outputs": [
    {
     "data": {
      "text/plain": [
       "<2476x4488 sparse matrix of type '<class 'numpy.int64'>'\n",
       "\twith 7428 stored elements in Compressed Sparse Row format>"
      ]
     },
     "execution_count": 102,
     "metadata": {},
     "output_type": "execute_result"
    }
   ],
   "source": [
    "cv = CountVectorizer()\n",
    "X_train = cv.fit_transform(df_train['Name'])\n",
    "X_train"
   ]
  },
  {
   "cell_type": "code",
   "execution_count": 103,
   "id": "6256cf02-a044-45ea-8174-244fea626609",
   "metadata": {},
   "outputs": [
    {
     "data": {
      "text/plain": [
       "<826x4488 sparse matrix of type '<class 'numpy.int64'>'\n",
       "\twith 1106 stored elements in Compressed Sparse Row format>"
      ]
     },
     "execution_count": 103,
     "metadata": {},
     "output_type": "execute_result"
    }
   ],
   "source": [
    "X_test = cv.transform(df_test['Name'])\n",
    "X_test"
   ]
  },
  {
   "cell_type": "code",
   "execution_count": 104,
   "id": "000f6e7a-35ab-4722-a16c-646b8a300184",
   "metadata": {},
   "outputs": [
    {
     "data": {
      "text/plain": [
       "array([360, 608, 823, ..., 256, 538, 603])"
      ]
     },
     "execution_count": 104,
     "metadata": {},
     "output_type": "execute_result"
    }
   ],
   "source": [
    "le = LabelEncoder()\n",
    "y_train = le.fit_transform(df_train['Content'])\n",
    "y_train"
   ]
  },
  {
   "cell_type": "code",
   "execution_count": 105,
   "id": "9ac28416-fb9d-40f0-9be4-a6bfaad228e8",
   "metadata": {},
   "outputs": [
    {
     "data": {
      "text/plain": [
       "array([360, 608, 823, ..., 256, 538, 603])"
      ]
     },
     "execution_count": 105,
     "metadata": {},
     "output_type": "execute_result"
    }
   ],
   "source": [
    "y_test = le.fit_transform(df_train['Content'])\n",
    "y_test"
   ]
  },
  {
   "cell_type": "code",
   "execution_count": 108,
   "id": "ac931612-0cbe-4421-b70a-f6ec7170de34",
   "metadata": {},
   "outputs": [
    {
     "name": "stdout",
     "output_type": "stream",
     "text": [
      "(2476,)\n",
      "(826,)\n"
     ]
    }
   ],
   "source": [
    "X_train.shape, y_train.shape\n",
    "\n",
    "print(y_test.shape)\n",
    "print(y_pred_bnb.shape)"
   ]
  },
  {
   "cell_type": "code",
   "execution_count": 106,
   "id": "e291cb76-4ea9-4901-ad02-44490929368d",
   "metadata": {},
   "outputs": [
    {
     "ename": "ValueError",
     "evalue": "operands could not be broadcast together with shapes (2476,) (826,) ",
     "output_type": "error",
     "traceback": [
      "\u001b[0;31m---------------------------------------------------------------------------\u001b[0m",
      "\u001b[0;31mValueError\u001b[0m                                Traceback (most recent call last)",
      "Cell \u001b[0;32mIn[106], line 7\u001b[0m\n\u001b[1;32m      4\u001b[0m y_pred_bnb \u001b[38;5;241m=\u001b[39m bnb\u001b[38;5;241m.\u001b[39mpredict(X_test)\n\u001b[1;32m      5\u001b[0m y_pred_bnb\n\u001b[0;32m----> 7\u001b[0m acc_bnb \u001b[38;5;241m=\u001b[39m (y_test \u001b[38;5;241m==\u001b[39m y_pred_bnb)\u001b[38;5;241m.\u001b[39msum()\u001b[38;5;241m/\u001b[39my_test\u001b[38;5;241m.\u001b[39mshape[\u001b[38;5;241m0\u001b[39m]\n\u001b[1;32m      8\u001b[0m \u001b[38;5;28mprint\u001b[39m(acc_bnb)\n",
      "\u001b[0;31mValueError\u001b[0m: operands could not be broadcast together with shapes (2476,) (826,) "
     ]
    }
   ],
   "source": [
    "bnb = BernoulliNB()\n",
    "bnb.fit(X_train,y_train)\n",
    "\n",
    "y_pred_bnb = bnb.predict(X_test)\n",
    "y_pred_bnb\n",
    "\n",
    "acc_bnb = (y_test == y_pred_bnb).sum()/y_test.shape[0]\n",
    "print(acc_bnb)"
   ]
  },
  {
   "cell_type": "code",
   "execution_count": 65,
   "id": "be6998d5-3466-4ef6-a772-facff22533f6",
   "metadata": {},
   "outputs": [
    {
     "name": "stdout",
     "output_type": "stream",
     "text": [
      "percentage of spam emails: 0.17801047120418848\n"
     ]
    },
    {
     "data": {
      "text/plain": [
       "array([0, 1, 0, 0, 0, 0, 1, 0, 0, 1, 0, 0, 0, 0, 0, 0, 0, 0, 0, 0, 1, 1,\n",
       "       0, 0, 0, 0, 1, 0, 0, 0, 1, 0, 1, 1, 0, 1, 0, 1, 1, 0, 0, 0, 0, 0,\n",
       "       0, 0, 0, 0, 0, 1, 0, 0, 1, 0, 0, 0, 1, 0, 0, 0, 1, 0, 0, 1, 0, 1,\n",
       "       0, 0, 0, 1, 0, 0, 0, 0, 1, 0, 0, 0, 0, 0, 0, 0, 0, 0, 0, 0, 0, 0,\n",
       "       0, 1, 0, 1, 1, 0, 0, 0, 0, 0, 0, 1, 0, 1, 0, 0, 0, 0, 0, 0, 0, 0,\n",
       "       0, 0, 0, 0, 0, 0, 0, 0, 0, 0, 0, 0, 0, 0, 0, 0, 0, 0, 0, 0, 1, 0,\n",
       "       1, 1, 0, 0, 0, 0, 1, 0, 0, 0, 0, 0, 0, 0, 0, 0, 0, 0, 0, 0, 0, 0,\n",
       "       0, 0, 0, 0, 0, 1, 1, 0, 0, 0, 0, 1, 0, 0, 0, 0, 0, 0, 1, 0, 0, 0,\n",
       "       0, 0, 0, 0, 0, 0, 0, 0, 0, 0, 0, 0, 1, 0, 0, 0, 0, 0, 0, 1, 0, 1,\n",
       "       1, 0, 0, 0, 0, 0, 0, 1, 0, 0, 0, 0, 0, 0, 0, 0, 0, 0, 0, 0, 1, 0,\n",
       "       0, 0, 0, 0, 0, 0, 0, 0, 0, 1, 0, 0, 0, 1, 0, 0, 0, 0, 0, 0, 0, 0,\n",
       "       0, 0, 0, 0, 0, 0, 0, 0, 0, 0, 1, 1, 0, 0, 0, 0, 0, 1, 0, 0, 0, 0,\n",
       "       0, 0, 0, 0, 1, 0, 0, 0, 0, 0, 0, 0, 0, 1, 0, 1, 1, 0, 0, 0, 0, 0,\n",
       "       0, 1, 0, 0, 1, 0, 0, 0, 0, 1, 0, 1, 0, 0, 0, 0, 0, 0, 1, 0, 0, 0,\n",
       "       0, 1, 0, 0, 0, 0, 0, 0, 0, 1, 1, 1, 1, 1, 0, 0, 0, 0, 1, 0, 0, 0,\n",
       "       1, 0, 1, 0, 0, 0, 0, 0, 0, 0, 0, 1, 1, 0, 0, 1, 0, 0, 0, 1, 0, 0,\n",
       "       0, 0, 0, 0, 0, 0, 1, 0, 0, 0, 0, 0, 0, 0, 0, 0, 0, 0, 0, 0, 0, 0,\n",
       "       0, 0, 0, 0, 0, 0, 0, 0, 0, 0, 0, 1, 0, 0, 0, 0, 1, 0, 0, 0, 0, 1,\n",
       "       0, 0, 0, 0, 0, 0, 0, 0, 0, 0, 1, 0, 1, 0, 0, 0, 0, 0, 0, 0, 0, 0,\n",
       "       0, 0, 0, 0, 0, 1, 0, 0, 0, 0, 0, 0, 0, 1, 1, 0, 0, 1, 0, 0, 1, 0,\n",
       "       0, 0, 0, 0, 0, 0, 0, 0, 0, 0, 0, 0, 0, 0, 0, 0, 0, 1, 0, 0, 0, 0,\n",
       "       1, 0, 0, 0, 1, 1, 1, 0, 0, 0, 0, 0, 0, 0, 0, 0, 0, 0, 1, 0, 0, 0,\n",
       "       0, 0, 0, 0, 0, 1, 0, 0, 0, 0, 0, 0, 0, 0, 0, 0, 0, 0, 0, 1, 0, 0,\n",
       "       1, 1, 0, 0, 0, 0, 0, 0, 0, 0, 0, 1, 0, 0, 0, 0, 0, 1, 0, 0, 0, 0,\n",
       "       0, 0, 1, 0, 1, 0, 0, 1, 0, 1, 0, 0, 0, 0, 0, 0, 0, 0, 0, 1, 0, 0,\n",
       "       0, 0, 1, 1, 0, 1, 1, 0, 0, 0, 1, 1, 0, 1, 0, 0, 0, 1, 0, 0, 0, 0,\n",
       "       0, 0, 0, 0, 0, 0, 0, 0, 0, 0, 0, 0, 0, 1, 0, 0, 0, 1, 0, 1, 0, 0,\n",
       "       1, 0, 0, 0, 1, 1, 0, 0, 0, 0, 0, 0, 0, 0, 0, 1, 0, 0, 0, 0, 0, 0,\n",
       "       0, 1, 0, 0, 0, 0, 0, 0, 0, 0, 1, 0, 0, 0, 0, 0, 0, 1, 0, 1, 0, 0,\n",
       "       0, 1, 0, 0, 0, 0, 0, 0, 0, 1, 0, 0, 0, 0, 0, 0, 0, 0, 0, 1, 0, 1,\n",
       "       0, 0, 0, 1, 0, 0, 1, 0, 0, 0, 0, 0, 0, 0, 0, 0, 0, 0, 0, 0, 0, 1,\n",
       "       0, 1, 0, 0, 0, 0, 1, 0, 0, 0, 0, 0, 0, 0, 0, 0, 0, 1, 0, 1, 0, 0,\n",
       "       0, 0, 0, 0, 0, 0, 0, 0, 1, 0, 0, 0, 0, 0, 0, 0, 0, 0, 0, 0, 0, 0,\n",
       "       0, 0, 0, 0, 0, 1, 0, 1, 1, 0, 0, 0, 1, 0, 1, 0, 1, 0, 1, 0, 1, 1,\n",
       "       1, 0, 0, 0, 0, 0, 0, 1, 0, 0, 0, 0, 0, 0, 0, 0])"
      ]
     },
     "execution_count": 65,
     "metadata": {},
     "output_type": "execute_result"
    }
   ],
   "source": [
    "acc_test = (df_test['Type'] == 'Spam').sum()/df_test.shape[0]\n",
    "print(\"percentage of spam emails:\",acc_test)\n",
    "\n",
    "#countvectorizer \n",
    "\n",
    "cv = CountVectorizer()\n",
    "X_train = cv.fit_transform(df_train['Name'])\n",
    "X_test = cv.transform(df_test['Name'])\n",
    "\n",
    "le = LabelEncoder()\n",
    "y_train = le.fit_transform(df_train['Type'])\n",
    "y_test = le.transform(df_test['Type'])\n",
    "\n",
    "#print(X_train.shape, y_train.shape)\n",
    "#print(X_test.shape, y_test.shape)\n",
    "\n",
    "y_test"
   ]
  },
  {
   "cell_type": "code",
   "execution_count": 63,
   "id": "72ffa0dc-0d87-495e-be04-66563eecf50f",
   "metadata": {},
   "outputs": [
    {
     "name": "stdout",
     "output_type": "stream",
     "text": [
      "Bernoulli\n",
      "Accuracy: 1.0\n",
      "Precision: 1.0\n",
      "Recall: 1.0\n"
     ]
    },
    {
     "data": {
      "text/plain": [
       "'\\ndf_train_mnb, df_test_mnb = train_test_split(df,random_state=SEED)\\n\\nmnb = MultinomialNB()\\nX_train = cv.fit_transform(df_train_mnb[\\'Name\\'])\\nX_test = cv.transform(df_test_mnb[\\'Name\\'])\\n\\nle = LabelEncoder()\\ny_train = le.fit_transform(df_train_mnb[\\'Type\\'])\\ny_test = le.transform(df_test_mnb[\\'Type\\'])\\nmnb.fit(X_train,y_train)\\ny_pred_mnb = mnb.predict(X_test)\\nacc_mnb = (y_test == y_pred_mnb).sum()/y_test.shape[0]\\n\\ny_test_inv = le.inverse_transform(y_test)\\ny_pred_mnb_inv = le.inverse_transform(y_pred_mnb)\\ntp = ((y_test_inv == \\'Ham\\') & (y_pred_mnb_inv == \\'Ham\\')).sum()\\nfp = ((y_test_inv == \\'Spam\\') & (y_pred_mnb_inv == \\'Ham\\')).sum()\\nfn = ((y_test_inv == \\'Ham\\') & (y_pred_mnb_inv == \\'Spam\\')).sum()\\ntn = ((y_test_inv == \\'Spam\\') & (y_pred_mnb_inv == \\'Spam\\')).sum()\\nacc = (tp+tn)/(tp+fp+tn+fn)\\nprecision = tp/(tp+fp)\\nrecall = tp/(tp+fn)\\n\\nprint(\"Multinomial\")\\nacc, precision, recall\\n'"
      ]
     },
     "execution_count": 63,
     "metadata": {},
     "output_type": "execute_result"
    }
   ],
   "source": [
    "from sklearn.metrics import precision_score, recall_score\n",
    "df = pd.concat([df_spam, df_easy_ham], ignore_index=True)\n",
    "\n",
    "# Dela upp datan i tränings- och testuppsättningar\n",
    "df_train_bnb, df_test_bnb = train_test_split(df, test_size=0.2, random_state=SEED)\n",
    "\n",
    "# Träna modellen på träningsuppsättningen\n",
    "X_train = cv.fit_transform(df_train_bnb['Name'])\n",
    "y_train = le.fit_transform(df_train_bnb['Type'])\n",
    "bnb.fit(X_train, y_train)\n",
    "\n",
    "# Utvärdera modellen på testuppsättningen\n",
    "X_test = cv.transform(df_test_bnb['Name'])\n",
    "y_test = le.transform(df_test_bnb['Type'])\n",
    "y_pred_bnb = bnb.predict(X_test)\n",
    "\n",
    "# Beräkna utvärderingsmetriker\n",
    "acc_bnb = (y_test == y_pred_bnb).sum() / y_test.shape[0]\n",
    "precisionb = precision_score(y_test, y_pred_bnb)\n",
    "recallb = recall_score(y_test, y_pred_bnb)\n",
    "\n",
    "print(\"Bernoulli\")\n",
    "print(\"Accuracy:\", acc_bnb)\n",
    "print(\"Precision:\", precisionb)\n",
    "print(\"Recall:\", recallb)\n",
    "\n",
    "\n",
    "\"\"\"\n",
    "df_train_mnb, df_test_mnb = train_test_split(df,random_state=SEED)\n",
    "\n",
    "mnb = MultinomialNB()\n",
    "X_train = cv.fit_transform(df_train_mnb['Name'])\n",
    "X_test = cv.transform(df_test_mnb['Name'])\n",
    "\n",
    "le = LabelEncoder()\n",
    "y_train = le.fit_transform(df_train_mnb['Type'])\n",
    "y_test = le.transform(df_test_mnb['Type'])\n",
    "mnb.fit(X_train,y_train)\n",
    "y_pred_mnb = mnb.predict(X_test)\n",
    "acc_mnb = (y_test == y_pred_mnb).sum()/y_test.shape[0]\n",
    "\n",
    "y_test_inv = le.inverse_transform(y_test)\n",
    "y_pred_mnb_inv = le.inverse_transform(y_pred_mnb)\n",
    "tp = ((y_test_inv == 'Ham') & (y_pred_mnb_inv == 'Ham')).sum()\n",
    "fp = ((y_test_inv == 'Spam') & (y_pred_mnb_inv == 'Ham')).sum()\n",
    "fn = ((y_test_inv == 'Ham') & (y_pred_mnb_inv == 'Spam')).sum()\n",
    "tn = ((y_test_inv == 'Spam') & (y_pred_mnb_inv == 'Spam')).sum()\n",
    "acc = (tp+tn)/(tp+fp+tn+fn)\n",
    "precision = tp/(tp+fp)\n",
    "recall = tp/(tp+fn)\n",
    "\n",
    "print(\"Multinomial\")\n",
    "acc, precision, recall\n",
    "\"\"\"\n",
    "\n",
    "\n"
   ]
  },
  {
   "cell_type": "code",
   "execution_count": 33,
   "id": "adc95a04-e7a6-4eaf-b434-2400a9f83537",
   "metadata": {},
   "outputs": [
    {
     "name": "stdout",
     "output_type": "stream",
     "text": [
      "Type\n",
      "Spam    501\n",
      "Ham     250\n",
      "Name: count, dtype: int64\n"
     ]
    },
    {
     "data": {
      "text/plain": [
       "array([[ 48,   0],\n",
       "       [  0, 141]])"
      ]
     },
     "execution_count": 33,
     "metadata": {},
     "output_type": "execute_result"
    }
   ],
   "source": [
    "import numpy as np\n",
    "df = pd.concat([df_spam, df_hard_ham], ignore_index=True)\n",
    "\n",
    "#train-test for easy-ham and spam\n",
    "SEED = 1234\n",
    "df_train, df_test = train_test_split(df,random_state=SEED)\n",
    "\n",
    "print(df['Type'].value_counts())\n",
    "\n",
    "#X_train.shape, y_train.shape\n",
    "\n",
    "bnb = BernoulliNB()\n",
    "bnb.fit(X_train,y_train)\n",
    "y_test\n",
    "y_pred_bnb = bnb.predict(X_test)\n",
    "\n",
    "acc_bnb = (y_test == y_pred_bnb).sum()/y_test.shape[0]\n",
    "\n",
    "mnb = MultinomialNB()\n",
    "mnb.fit(X_train,y_train)\n",
    "y_pred_mnb = mnb.predict(X_test)\n",
    "acc_mnb = (y_test == y_pred_mnb).sum()/y_test.shape[0]\n",
    "\n",
    "y_test_inv = le.inverse_transform(y_test)\n",
    "\n",
    "y_pred_mnb_inv = le.inverse_transform(y_pred_mnb)\n",
    "tp = ((y_test_inv == 'Ham') & (y_pred_mnb_inv == 'Ham')).sum()\n",
    "fp = ((y_test_inv == 'Spam') & (y_pred_mnb_inv == 'Ham')).sum()\n",
    "fn = ((y_test_inv == 'Ham') & (y_pred_mnb_inv == 'Spam')).sum()\n",
    "tn = ((y_test_inv == 'Spam') & (y_pred_mnb_inv == 'Spam')).sum()\n",
    "\n",
    "acc = (tp+tn)/(tp+fp+tn+fn)\n",
    "precision = tp/(tp+fp)\n",
    "recall = tp/(tp+fn)\n",
    "acc, precision, recall\n",
    "\n",
    "np.array([[tp,fn],[fp,tn]])\n"
   ]
  },
  {
   "cell_type": "code",
   "execution_count": null,
   "id": "19097d34-9ed0-462e-b9b6-763db3c85f3b",
   "metadata": {},
   "outputs": [],
   "source": []
  }
 ],
 "metadata": {
  "kernelspec": {
   "display_name": "Python 3 (ipykernel)",
   "language": "python",
   "name": "python3"
  },
  "language_info": {
   "codemirror_mode": {
    "name": "ipython",
    "version": 3
   },
   "file_extension": ".py",
   "mimetype": "text/x-python",
   "name": "python",
   "nbconvert_exporter": "python",
   "pygments_lexer": "ipython3",
   "version": "3.11.7"
  }
 },
 "nbformat": 4,
 "nbformat_minor": 5
}
